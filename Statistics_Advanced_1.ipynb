{
  "nbformat": 4,
  "nbformat_minor": 0,
  "metadata": {
    "colab": {
      "provenance": []
    },
    "kernelspec": {
      "name": "python3",
      "display_name": "Python 3"
    },
    "language_info": {
      "name": "python"
    }
  },
  "cells": [
    {
      "cell_type": "markdown",
      "source": [
        "# Statistics Advanced 1"
      ],
      "metadata": {
        "id": "Vyolf3g1KAga"
      }
    },
    {
      "cell_type": "code",
      "execution_count": null,
      "metadata": {
        "id": "A3McqYdPIWos"
      },
      "outputs": [],
      "source": [
        "# Theory & Practical"
      ]
    },
    {
      "cell_type": "markdown",
      "source": [
        "1. What is a random variable in probability theory?\n",
        "\n",
        "   -> A random variable is a numerical outcome of a random phenomenon. It is a variable whose possible values are outcomes of a random process or experiment. It is a function that assigns a real number to each outcome in a sample space of a random experiment.\n",
        "\n",
        "2. What are the types of random variables?\n",
        "\n",
        "   -> Random variables are mainly classified into two types based on the nature of the outcomes they represent:\n",
        "\n",
        "     i. Discrete Variable :\n",
        "    \n",
        "      This variable is finite variables which are countable. Eg: No. of students in a class.\n",
        "\n",
        "     ii. Continous Variable :\n",
        "\n",
        "      A continuous random variable takes on uncountable values over a continuous range or interval. Eg : Temperature in a room.\n",
        "\n",
        "\n",
        "3. Explain the difference between discrete and continuous distributions.\n",
        "\n",
        "\n",
        "\n",
        "\n"
      ],
      "metadata": {
        "id": "X_xMOtwVKfuf"
      }
    },
    {
      "cell_type": "markdown",
      "source": [
        "| Feature    | Discrete Distribution | Continuous Distribution      |\n",
        "|----------|-----|-----------|\n",
        "| Define | Probabilities for countable outcomes\t | Probabilities over intervals of real numbers\n",
        "|\n",
        "|  Example   | Number of students, dice rolls\t | Height, time, weight\n",
        "\n",
        "  "
      ],
      "metadata": {
        "id": "nUrSGvr3P63q"
      }
    },
    {
      "cell_type": "markdown",
      "source": [
        "  ii. Possible Values\n",
        "      \n",
        "  Discrete: Takes specific values (e.g., 0, 1, 2, ...).\n",
        "  Continuous: Takes any value in a range (e.g., 1.23, 3.456, etc.).\n",
        "  \n",
        "\n",
        "   iii. Probability Calculation\n",
        "\n",
        "  Discrete: Probability Mass Function (PMF)\n",
        "  Continuous : Probability Density Function (PDF)\n",
        "\n",
        "  iv. Graphical Representation\n",
        "\n",
        "  Discrete: Bar graph with separate vertical bars.\n",
        "  Continuous: Smooth curve (bell-shaped, uniform, etc.)\n",
        "\n",
        "\n",
        "\n",
        "\n",
        "\n",
        "\n",
        "\n",
        "\n"
      ],
      "metadata": {
        "id": "GYcnpydyR0xw"
      }
    },
    {
      "cell_type": "markdown",
      "source": [
        "4. What is a binomial distribution, and how is it used in probability?\n",
        "\n",
        "   -> A binomial distribution is a discrete probability distribution that models the number of successes in a fixed number of independent trials of a binary experiment, where each trial has only two possible outcomes:\n",
        "\n",
        " Success (with probability\n",
        "𝑝)\n",
        "\n",
        " Failure (with probability\n",
        "𝑞\n",
        "=\n",
        "1\n",
        "−\n",
        "𝑝\n",
        "q=1−p)\n",
        "\n",
        "5. What is the standard normal distribution, and why is it important?\n",
        "\n",
        "   -> The standard normal distribution is a special case of the normal    distribution where:\n",
        "\n",
        "   i. The mean (μ) is 0\n",
        "\n",
        "   ii. The standard deviation (σ) is 1\n",
        "\n",
        "   It is denoted by:\n",
        "\n",
        "    Z∼N(0,1)\n",
        "\n",
        "    Z is a standard normal variable.\n",
        "\n",
        " a. Standardization (Z-scores):\n",
        "Any normal distribution can be converted to the standard normal using:\n",
        "\n",
        "𝑍\n",
        "=\n",
        "𝑋\n",
        "−\n",
        "𝜇\n",
        "/σ\n",
        "\n",
        "This allows comparison of different data sets on a common scale.\n",
        "\n",
        "  b. Table Lookup:\n",
        "\n",
        "Probabilities for normal distributions are calculated using Z-tables, which are based on the standard normal.\n",
        "\n",
        "  c. Statistical Inference:\n",
        "\n",
        "  It's essential in hypothesis testing, confidence intervals, and regression analysis.\n",
        "\n",
        "\n",
        "  d. Widespread Applications:\n",
        "  \n",
        "  Found in natural and social sciences — e.g., height, test scores, errors in measurement, etc.\n",
        "\n",
        "\n",
        "6. What is the Central Limit Theorem (CLT), and why is it critical in statistics?\n",
        "\n",
        "   -> The Central Limit Theorem (CLT) is a fundamental theorem in statistics which states that:\n",
        "\n",
        "When independent random variables are added, their normalized sum tends toward a normal distribution, even if the original variables themselves are not normally distributed as long as the sample size is large enough.\n",
        "\n",
        "a. Justifies the Use of Normal Distribution:\n",
        "\n",
        "Even if the population is skewed or irregular, sample means are approximately normal for large\n",
        "𝑛\n",
        ".\n",
        "\n",
        " b. Foundation for Hypothesis Testing and Confidence Intervals:\n",
        "\n",
        "We can use Z-tests or t-tests to make inferences about population parameters.\n",
        "\n",
        " c. Applies to Real-World Data:\n",
        "\n",
        "Real-world data rarely follow perfect distributions. CLT allows us to apply powerful statistical tools regardless.\n",
        "\n",
        "\n",
        "7. What is the significance of confidence intervals in statistical analysis?\n",
        "\n",
        "   -> A confidence interval (CI) is a range of values, derived from sample data, that is likely to contain the true value of a population parameter (like the mean or proportion) with a certain level of confidence.\n",
        "     It provides an estimate along with a measure of uncertainty.\n",
        "\n",
        "\n",
        "8. What is the concept of expected value in a probability distribution?\n",
        "\n",
        "  -> The expected value (EV) of a random variable is the long-run average or mean value it would take over many independent repetitions of the experiment.\n",
        "It represents the center or \"balance point\" of a probability distribution.\n",
        "\n",
        "9. Write a Python program to generate 1000 random numbers from a normal distribution with mean = 50 and standard deviation = 5. Compute its mean and standard  deviation using NumPy, and draw a histogram to visualize the distribution.\n",
        "\n",
        "\n",
        "\n",
        "\n",
        "\n",
        "\n",
        "\n",
        "\n",
        "\n",
        "\n",
        "   \n",
        "\n",
        "\n"
      ],
      "metadata": {
        "id": "wYArv3wCTlPv"
      }
    },
    {
      "cell_type": "code",
      "source": [
        "import numpy as np\n",
        "import matplotlib.pyplot as plt\n",
        "\n",
        "# Step 1: Generate 1000 random numbers from normal distribution\n",
        "data = np.random.normal(loc=50, scale=5, size=1000)\n",
        "\n",
        "# Step 2: Compute mean and standard deviation\n",
        "mean = np.mean(data)\n",
        "std_dev = np.std(data)\n",
        "\n",
        "print(f\"Mean of the data: {mean:.2f}\")\n",
        "print(f\"Standard Deviation of the data: {std_dev:.2f}\")\n",
        "\n",
        "# Step 3: Plot histogram\n",
        "plt.figure(figsize=(10, 6))\n",
        "plt.hist(data, bins=30, color='skyblue', edgecolor='black', alpha=0.7)\n",
        "plt.title('Histogram of Normally Distributed Data\\n(Mean = 50, SD = 5)')\n",
        "plt.xlabel('Value')\n",
        "plt.ylabel('Frequency')\n",
        "plt.grid(True)\n",
        "plt.show()\n"
      ],
      "metadata": {
        "colab": {
          "base_uri": "https://localhost:8080/",
          "height": 620
        },
        "id": "Mf-8d4Z5uDMe",
        "outputId": "a775fe8f-4e0b-4dd0-899e-e966d388e9a0"
      },
      "execution_count": 1,
      "outputs": [
        {
          "output_type": "stream",
          "name": "stdout",
          "text": [
            "Mean of the data: 50.04\n",
            "Standard Deviation of the data: 4.99\n"
          ]
        },
        {
          "output_type": "display_data",
          "data": {
            "text/plain": [
              "<Figure size 1000x600 with 1 Axes>"
            ],
            "image/png": "[encoded data removed]"
          },
          "metadata": {}
        }
      ]
    },
    {
      "cell_type": "markdown",
      "source": [
        "10. Question 10: You are working as a data analyst for a retail company. The company has collected daily sales data for 2 years and wants you to identify the overall sales trend.  daily_sales = [220, 245, 210, 265, 230, 250, 260, 275, 240, 255, 235, 260, 245, 250, 225, 270, 265, 255, 250, 260]  \n",
        "\n",
        " ● Explain how you would apply the Central Limit Theorem to estimate the average sales  with a 95% confidence interval.\n",
        "\n",
        "  ● Write the Python code to compute the mean sales and its confidence interval.\n",
        ""
      ],
      "metadata": {
        "id": "muMdduJSumr_"
      }
    },
    {
      "cell_type": "code",
      "source": [
        "daily_sales = [220, 245, 210, 265, 230, 250, 260, 275, 240, 255,\n",
        "               235, 260, 245, 250, 225, 270, 265, 255, 250, 260]\n",
        "\n",
        "\n",
        "import numpy as np\n",
        "import scipy.stats as stats\n",
        "\n",
        "# Given sales data\n",
        "daily_sales = [220, 245, 210, 265, 230, 250, 260, 275, 240, 255,\n",
        "               235, 260, 245, 250, 225, 270, 265, 255, 250, 260]\n",
        "\n",
        "# Step 1: Calculate sample statistics\n",
        "n = len(daily_sales)\n",
        "mean_sales = np.mean(daily_sales)\n",
        "std_dev_sales = np.std(daily_sales, ddof=1)  # Sample standard deviation\n",
        "\n",
        "# Step 2: Calculate the t-critical value for 95% confidence\n",
        "confidence = 0.95\n",
        "alpha = 1 - confidence\n",
        "t_critical = stats.t.ppf(1 - alpha/2, df=n-1)\n",
        "\n",
        "# Step 3: Margin of error\n",
        "margin_of_error = t_critical * (std_dev_sales / np.sqrt(n))\n",
        "\n",
        "# Step 4: Confidence interval\n",
        "ci_lower = mean_sales - margin_of_error\n",
        "ci_upper = mean_sales + margin_of_error\n",
        "\n",
        "# Display results\n",
        "print(f\"Mean daily sales: {mean_sales:.2f}\")\n",
        "print(f\"Standard deviation: {std_dev_sales:.2f}\")\n",
        "print(f\"95% Confidence Interval: ({ci_lower:.2f}, {ci_upper:.2f})\")\n"
      ],
      "metadata": {
        "colab": {
          "base_uri": "https://localhost:8080/"
        },
        "id": "0P0_zPWTuL60",
        "outputId": "d9c4fe8d-4b7b-4b29-c8d4-9e00c47b32b5"
      },
      "execution_count": 2,
      "outputs": [
        {
          "output_type": "stream",
          "name": "stdout",
          "text": [
            "Mean daily sales: 248.25\n",
            "Standard deviation: 17.27\n",
            "95% Confidence Interval: (240.17, 256.33)\n"
          ]
        }
      ]
    }
  ]
}